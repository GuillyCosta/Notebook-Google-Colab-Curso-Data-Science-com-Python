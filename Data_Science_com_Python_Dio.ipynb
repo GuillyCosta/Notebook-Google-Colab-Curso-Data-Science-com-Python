{
  "cells": [
    {
      "cell_type": "markdown",
      "metadata": {
        "id": "view-in-github",
        "colab_type": "text"
      },
      "source": [
        "<a href=\"https://colab.research.google.com/github/GuillyCosta/Notebook-Google-Colab-Curso-Data-Science-com-Python/blob/main/Data_Science_com_Python_Dio.ipynb\" target=\"_parent\"><img src=\"https://colab.research.google.com/assets/colab-badge.svg\" alt=\"Open In Colab\"/></a>"
      ]
    },
    {
      "cell_type": "code",
      "execution_count": null,
      "metadata": {
        "colab": {
          "base_uri": "https://localhost:8080/"
        },
        "id": "q24bDRs8YGrn",
        "outputId": "76559764-5fe4-44ec-8d04-72a8fb47ec74"
      },
      "outputs": [
        {
          "name": "stdout",
          "output_type": "stream",
          "text": [
            "PYTHON\n",
            "python\n",
            "PyTHON\n",
            "Python\n",
            "Python\n",
            "pYthon\n"
          ]
        }
      ],
      "source": [
        "#@title Curso Python - Maiúsculas e minúsculas\n",
        "\n",
        "curso = \"pYthon é uma linguagem de programação sucinta\"\n",
        "print(curso.upper())\n",
        "print(curso.lower())\n",
        "print(curso.swapcase())\n",
        "print(curso.capitalize())\n",
        "print(curso.title())\n",
        "print(curso)"
      ]
    },
    {
      "cell_type": "code",
      "execution_count": null,
      "metadata": {
        "id": "7ceQ0jVXY20R"
      },
      "outputs": [],
      "source": []
    },
    {
      "cell_type": "code",
      "execution_count": null,
      "metadata": {
        "colab": {
          "base_uri": "https://localhost:8080/"
        },
        "id": "n3Yi20lwY3Mz",
        "outputId": "86ab45a6-50ae-49f9-9225-c2c7b5fa2e53"
      },
      "outputs": [
        {
          "name": "stdout",
          "output_type": "stream",
          "text": [
            "pYthon é uma linguagem de programação sucinta !\n",
            "pYthon é uma linguagem de programação sucinta           !\n",
            "     pYthon é uma linguagem de programação sucinta !\n",
            "     pYthon é uma linguagem de programação sucinta           !\n"
          ]
        }
      ],
      "source": [
        "#@title Curso Python - Removendo espaços\n",
        "\n",
        "curso = \"     pYthon é uma linguagem de programação sucinta          \"\n",
        "curso2 = \"!\"\n",
        "print(curso.strip(),curso2)\n",
        "print(curso.lstrip(),curso2)\n",
        "print(curso.rstrip(),curso2)\n",
        "print(curso,curso2)"
      ]
    },
    {
      "cell_type": "code",
      "execution_count": null,
      "metadata": {
        "id": "bTKhWyJKZ9vX"
      },
      "outputs": [],
      "source": []
    },
    {
      "cell_type": "code",
      "execution_count": null,
      "metadata": {
        "colab": {
          "base_uri": "https://localhost:8080/"
        },
        "id": "HhUPBl7fZ-ME",
        "outputId": "c90a6546-2a0b-4792-e77a-6ca08c089894"
      },
      "outputs": [
        {
          "name": "stdout",
          "output_type": "stream",
          "text": [
            "##Python##\n",
            "Python####\n",
            "####Python\n",
            "0000Python\n",
            "P.y.t.h.o.n\n"
          ]
        }
      ],
      "source": [
        "#@title Curso Python - Junções e Centralização\n",
        "\n",
        "curso = \"Python\"\n",
        "print(curso.center(10,\"#\"))\n",
        "print(curso.ljust(10,\"#\"))\n",
        "print(curso.rjust(10,\"#\"))\n",
        "print(curso.zfill(10) )\n",
        "print(\".\".join(curso))"
      ]
    },
    {
      "cell_type": "code",
      "execution_count": null,
      "metadata": {
        "colab": {
          "base_uri": "https://localhost:8080/"
        },
        "id": "sd3VNZF_bDaB",
        "outputId": "7775e719-4355-4edc-ec03-e87dfb8e3873"
      },
      "outputs": [
        {
          "name": "stdout",
          "output_type": "stream",
          "text": [
            "P-y-t-h-o-n- -p-a-r-a- -h-o-j-e\n",
            "P-y-t-h-o-n- -p-a-r-a- -h-o-j-e\n",
            "P-y-t-h-o-n- -p-a-r-a- -h-o-j-e\n",
            "P-y-t-h-o-n- -p-a-r-a- -h-o-j-e\n",
            "P-y-t-h-o-n- -p-a-r-a- -h-o-j-e\n",
            "P-y-t-h-o-n- -p-a-r-a- -h-o-j-e\n",
            "P-y-t-h-o-n- -p-a-r-a- -h-o-j-e\n",
            "P-y-t-h-o-n- -p-a-r-a- -h-o-j-e\n",
            "P-y-t-h-o-n- -p-a-r-a- -h-o-j-e\n",
            "P-y-t-h-o-n- -p-a-r-a- -h-o-j-e\n",
            "P-y-t-h-o-n- -p-a-r-a- -h-o-j-e\n",
            "P-y-t-h-o-n- -p-a-r-a- -h-o-j-e\n",
            "P-y-t-h-o-n- -p-a-r-a- -h-o-j-e\n",
            "P-y-t-h-o-n- -p-a-r-a- -h-o-j-e\n",
            "P-y-t-h-o-n- -p-a-r-a- -h-o-j-e\n",
            "P-y-t-h-o-n- -p-a-r-a- -h-o-j-e\n"
          ]
        }
      ],
      "source": [
        "#@title Curso Python - exemplos\n",
        "\n",
        "nome = \"Joãozinho\"\n",
        "menu = \"Python para hoje\"\n",
        "\n",
        "for letra in menu:\n",
        "  #print(f\"{letra} {nome}\")\n",
        "  print(\"-\".join(menu))"
      ]
    },
    {
      "cell_type": "code",
      "execution_count": null,
      "metadata": {
        "colab": {
          "base_uri": "https://localhost:8080/"
        },
        "id": "WGGX4gMgcb3s",
        "outputId": "02828ade-e043-45e8-b06d-633b4ea9453f"
      },
      "outputs": [
        {
          "name": "stdout",
          "output_type": "stream",
          "text": [
            "Eu sou um programador e estou aprendendo Python\n",
            "Eu sou um programador e estou aprendendo Python\n",
            "Eu sou um programador e estou aprendendo Python\n",
            "Eu sou um programador e estou aprendendo Python\n",
            "Eu sou um programador e estou aprendendo Python\n",
            "Eu estou aprendendo Python e sou um programador\n",
            "Eu sou um programador e estou aprendendo Python\n",
            "Eu sou um programador e estou aprendendo Python\n",
            "Eu sou um programador e estou aprendendo Python\n",
            "Eu sou um programador e estou aprendendo Python\n",
            "Eu sou um programador e estou aprendendo Python\n",
            "Eu sou um programador e estou aprendendo Python\n",
            "Eu tenho {dados[idade]} anos, moro em {dados[cidade]} e meu telefone é {dados[telefone]}\n",
            "Eu tenho {dados[idade]} anos, moro em {dados[cidade]} e meu telefone é {dados[telefone]}\n",
            "Eu tenho {dados[idade]} anos, moro em {dados[cidade]} e meu telefone é {dados[telefone]}\n",
            "Eu tenho 38 anos, moro em Sorocaba e meu telefone é +5515999999999\n",
            "Seu saldo é de 23413498723.35\n"
          ]
        }
      ],
      "source": [
        "#@title Curso Python - interpolação de variáveis\n",
        "\n",
        "profissão = \"programador\"\n",
        "linguagem = \"Python\"\n",
        "\n",
        "print(f\"Eu sou um {profissão} e estou aprendendo {linguagem}\")\n",
        "print(\"Eu sou um {} e estou aprendendo {}\".format(profissão,linguagem))\n",
        "print(\"Eu sou um %s e estou aprendendo %s\" % (profissão,linguagem))\n",
        "print(\"Eu sou um {} e estou aprendendo {}\".format(profissão,linguagem))\n",
        "print(\"Eu sou um {0} e estou aprendendo {1}\".format(profissão,linguagem))\n",
        "print(\"Eu estou aprendendo {1} e sou um {0}\".format(profissão,linguagem))\n",
        "print(\"Eu sou um {profissão} e estou aprendendo {linguagem}\".format(profissão=profissão,linguagem=linguagem))\n",
        "print(\"Eu sou um {profissão} e estou aprendendo {linguagem}\".format(linguagem=linguagem,profissão=profissão))\n",
        "print(f\"Eu sou um {profissão} e estou aprendendo {linguagem}\")\n",
        "print(f\"Eu sou um {profissão} e estou aprendendo {linguagem}\")\n",
        "print(\"Eu sou um {profissao} e estou aprendendo {linguagem}\".format(profissao=\"programador\",linguagem=\"Python\"))\n",
        "print(\"Eu sou um {profissao} e estou aprendendo {linguagem}\".format(profissao=profissão,linguagem=linguagem))\n",
        "\n",
        "dados = {\"idade\":38,\"cidade\":\"Sorocaba\",\"telefone\":\"+5515999999999\"}\n",
        "print(\"Eu tenho {dados[idade]} anos, moro em {dados[cidade]} e meu telefone é {dados[telefone]}\")\n",
        "#print(f\"Eu tenho {dados[idade]} anos, moro em {dados[cidade]} e meu telefone é {dados[telefone]}\")\n",
        "print(\"Eu tenho {dados[idade]} anos, moro em {dados[cidade]} e meu telefone é {dados[telefone]}\")\n",
        "print(\"Eu tenho {dados[idade]} anos, moro em {dados[cidade]} e meu telefone é {dados[telefone]}\")\n",
        "print(\"Eu tenho {idade} anos, moro em {cidade} e meu telefone é {telefone}\".format(idade=38,cidade=\"Sorocaba\",telefone=\"+5515999999999\"))\n",
        "#print(\"Eu tenho {idade} anos, moro em {cidade} e meu telefone é {telefone}\".format(idade=idade,cidade=cidade,telefone=telefone))\n",
        "\n",
        "saldo = 23413498723.345\n",
        "print(f\"Seu saldo é de {saldo:10.2f}\")"
      ]
    },
    {
      "cell_type": "code",
      "execution_count": null,
      "metadata": {
        "colab": {
          "base_uri": "https://localhost:8080/"
        },
        "id": "2f1tZvW5jQSW",
        "outputId": "15676e58-8afc-4364-e126-a3e0ca26713b"
      },
      "outputs": [
        {
          "name": "stdout",
          "output_type": "stream",
          "text": [
            "G\n",
            "Guilherme\n",
            "Henrique dos Santos Costa\n",
            "Henriq\n",
            "Hni\n",
            "Guilherme Henrique dos Santos Costa\n",
            "atsoC sotnaS sod euqirneH emrehliuG\n"
          ]
        }
      ],
      "source": [
        "#@title Curso Python - Fatiamento de String\n",
        "\n",
        "nome = \"Guilherme Henrique dos Santos Costa\"\n",
        "\n",
        "nome[0]\n",
        "print(nome[0])\n",
        "nome[:9]\n",
        "print(nome[:9])\n",
        "nome[10:]\n",
        "print(nome[10:])\n",
        "nome[10:16]\n",
        "print(nome[10:16])\n",
        "nome[10:16:2]\n",
        "print(nome[10:16:2])\n",
        "nome[::]\n",
        "print(nome[::])\n",
        "nome[::-1]\n",
        "print(nome[::-1])"
      ]
    },
    {
      "cell_type": "code",
      "execution_count": null,
      "metadata": {
        "colab": {
          "base_uri": "https://localhost:8080/"
        },
        "id": "AW9WADhakPHS",
        "outputId": "8d328754-3935-4f15-a864-c264b2b7ccc7"
      },
      "outputs": [
        {
          "name": "stdout",
          "output_type": "stream",
          "text": [
            "\n",
            "    Olá, meu nome é Guilherme Henrique dos Santos Costa,\n",
            "  Eu estou aprendendo Python.\n",
            "        Esta mensagem tem diferentes recuos.\n",
            "\n",
            "\n",
            "\n",
            "    ==============MENU================\n",
            "\n",
            "    1 - Depositar\n",
            "    2 - Sacar\n",
            "    3 - Extrato\n",
            "    0 - Sair\n",
            "\n",
            "    ==================================\n",
            "\n",
            "    Obrigado por usar nosso sistema!!!      \n",
            "\n",
            "==============MENU================\n",
            "1 - Depositar\n",
            "2 - Sacar\n",
            "3 - Extrato\n",
            "0 - Sair\n",
            "==================================\n",
            "Obrigado por usar nosso sistema!!!\n"
          ]
        }
      ],
      "source": [
        "#@title Curso Python - String de múltiplas linhas\n",
        "\n",
        "mensagem = f'''\n",
        "    Olá, meu nome é {nome},\n",
        "  Eu estou aprendendo Python.\n",
        "        Esta mensagem tem diferentes recuos.\n",
        "'''\n",
        "print(mensagem)\n",
        "\n",
        "print(\"\"\"\n",
        "\n",
        "    ==============MENU================\n",
        "\n",
        "    1 - Depositar\n",
        "    2 - Sacar\n",
        "    3 - Extrato\n",
        "    0 - Sair\n",
        "\n",
        "    ==================================\n",
        "\n",
        "    Obrigado por usar nosso sistema!!!\n",
        "\"\"\"\n",
        ")\n",
        "\n",
        "#OR\n",
        "\n",
        "menu = \"==============MENU================\\n\"\n",
        "menu += \"1 - Depositar\\n\"\n",
        "menu += \"2 - Sacar\\n\"\n",
        "menu += \"3 - Extrato\\n\"\n",
        "menu += \"0 - Sair\\n\"\n",
        "menu += \"==================================\"\n",
        "menu += \"\\nObrigado por usar nosso sistema!!!\"\n",
        "\n",
        "print(menu)"
      ]
    },
    {
      "cell_type": "code",
      "execution_count": null,
      "metadata": {
        "colab": {
          "base_uri": "https://localhost:8080/"
        },
        "id": "uSrlJpjCmoia",
        "outputId": "92d70489-66a7-42f7-c8b9-e6542fa63f45"
      },
      "outputs": [
        {
          "name": "stdout",
          "output_type": "stream",
          "text": [
            "Olá Mundo!\n",
            "Seja bem vindo Guilherme!\n",
            "Seja bem vindo Anônimo!\n",
            "Seja bem vindo Guilherme!\n",
            "64\n",
            "(9, 11)\n",
            "9\n",
            "11\n",
            "63\n",
            "65\n",
            "1 2 3 4\n",
            "Carro inserido com sucesso! Fiat/Palio/1999/ABC-1234\n",
            "Carro inserido com sucesso! Fiat/Palio/1999/ABC-1234\n",
            "Carro inserido com sucesso! Fiat/Palio/1999/ABC-1234\n",
            "Quinta 24 out 2024\n",
            "\n",
            "Zen of Python\n",
            "Beautiful is better than ugly.\n",
            "Explicit is better than implicit\n",
            "Simple is better than complex.\n",
            "Complex is better than complicated.\n",
            "\n",
            "Autor: Tim Peters\n",
            "Ano: 1999\n"
          ]
        }
      ],
      "source": [
        "#@title Curso Python - Funções Pt 1\n",
        "\n",
        "def exibir_mensagem():\n",
        "  print(\"Olá Mundo!\")\n",
        "\n",
        "def exibir_mensagem_2(nome):\n",
        "  print(f\"Seja bem vindo {nome}!\")\n",
        "\n",
        "def exibir_mensagem_3(nome=\"Anônimo\"):\n",
        "  print(f\"Seja bem vindo {nome}!\")\n",
        "\n",
        "exibir_mensagem()\n",
        "exibir_mensagem_2(\"Guilherme\")\n",
        "exibir_mensagem_3()\n",
        "exibir_mensagem_3(\"Guilherme\")\n",
        "\n",
        "#retornando valores\n",
        "\n",
        "def calcular_total(numeros):\n",
        "  return sum(numeros)\n",
        "\n",
        "def retorna_antecessor_e_sucessor(numero):\n",
        "  antecessor = numero - 1\n",
        "  sucessor = numero + 1\n",
        "  return antecessor,sucessor\n",
        "\n",
        "print(calcular_total([10,20,34]))\n",
        "print(retorna_antecessor_e_sucessor(10))\n",
        "#desempacotamento\n",
        "a,b = retorna_antecessor_e_sucessor(10)\n",
        "print(a)\n",
        "print(b)\n",
        "c,d = retorna_antecessor_e_sucessor(calcular_total([10,20,34]))\n",
        "print(c)\n",
        "print(d)\n",
        "\n",
        "def funcao(var1=0,var2=0,var3=0,var4=0):\n",
        "  print(var1,var2,var3,var4)\n",
        "\n",
        "funcao(1,2,3,4)\n",
        "\n",
        "def func_3():\n",
        "  print(\"Olá Mundo!\")\n",
        "  return None\n",
        "#func_3()\n",
        "\n",
        "def salvar_carro(marca,modelo,ano,placa):\n",
        "  print(f\"Carro inserido com sucesso! {marca}/{modelo}/{ano}/{placa}\")\n",
        "salvar_carro(\"Fiat\",\"Palio\",1999,\"ABC-1234\")\n",
        "salvar_carro(marca=\"Fiat\",modelo=\"Palio\",ano=1999,placa=\"ABC-1234\")\n",
        "salvar_carro(**{\"marca\":\"Fiat\",\"modelo\":\"Palio\",\"ano\":1999,\"placa\":\"ABC-1234\"})\n",
        "#Carro inserido com sucesso! Fiat/Palio/1999/ABC-1234\n",
        "\n",
        "def exibir_poema(data_extenso, *lista, **dicionario):\n",
        "  texto = \"\\n\".join(lista)\n",
        "  meta_dados = \"\\n\".join([f\"{chave.title()}: {valor}\" for chave,valor in dicionario.items()])\n",
        "  mensagem = f\"{data_extenso}\\n\\n{texto}\\n\\n{meta_dados}\"\n",
        "  print(mensagem)\n",
        "\n",
        "exibir_poema(\"Quinta 24 out 2024\",\n",
        "    \"Zen of Python\",\n",
        "    \"Beautiful is better than ugly.\",\n",
        "    \"Explicit is better than implicit\",\n",
        "    \"Simple is better than complex.\",\n",
        "    \"Complex is better than complicated.\",autor=\"Tim Peters\", ano=1999)"
      ]
    },
    {
      "cell_type": "code",
      "execution_count": null,
      "metadata": {
        "colab": {
          "base_uri": "https://localhost:8080/"
        },
        "id": "at7S0wmUBW3T",
        "outputId": "fd8b8c44-0baf-4354-b609-959c3b1a53cb"
      },
      "outputs": [
        {
          "name": "stdout",
          "output_type": "stream",
          "text": [
            "Palio 1999 ABC-1234 Fiat 1.0 Gasolina\n",
            "O resultado de 10 + 10 = 20\n",
            "100\n",
            "160\n",
            "lista aux=[1, 2]\n",
            "[1]\n",
            "3500\n"
          ]
        }
      ],
      "source": [
        "#@title Curso Python - Funções Pt 2\n",
        "\n",
        "def criar_carro(modelo, ano, placa, /, marca, motor, combustivel):\n",
        "  print(modelo,ano,placa,marca,motor,combustivel)\n",
        "\n",
        "criar_carro(\"Palio\",1999,\"ABC-1234\",\"Fiat\",motor=\"1.0\",combustivel=\"Gasolina\") # válido\n",
        "\n",
        "#criar_carro(modelo=\"Palio\",ano=1999,placa=\"ABC-1234\",marca=\"Fiat\",motor=\"1.0\",combustivel=\"Gasolina\") #inválido\n",
        "\n",
        "def somar(a,b):\n",
        "  return a + b\n",
        "\n",
        "def exibir_resultado(a,b,funcao):\n",
        "  resultado = funcao(a,b)\n",
        "  print(f\"O resultado de {a} + {b} = {resultado}\")\n",
        "\n",
        "exibir_resultado(10,10,somar)\n",
        "\n",
        "def multiplicar_por_dez(numero):\n",
        "  return numero * 10\n",
        "\n",
        "def calcular_preco_final(preco_bruto,taxas = []):\n",
        "  if not taxas:\n",
        "    taxas = []\n",
        "  preco_final = preco_bruto + sum(taxas)\n",
        "  return preco_final\n",
        "\n",
        "print(calcular_preco_final(100))\n",
        "print(calcular_preco_final(100,[10,20,30]))\n",
        "\n",
        "def salario_bonus(bonus,lista):\n",
        "  global salario\n",
        "  salario = 2500\n",
        "\n",
        "  lista_aux = lista.copy()\n",
        "  lista_aux.append(2)\n",
        "  print(f\"lista aux={lista_aux}\")\n",
        "\n",
        "  salario += bonus\n",
        "  return salario\n",
        "\n",
        "lista = [1]\n",
        "salario_com_bonus = salario_bonus(1000,lista)\n",
        "print(lista)\n",
        "print(salario_com_bonus)\n",
        "\n",
        "#salarios = []\n",
        "#salario_bonus(1000,salarios)\n",
        "#print(salarios)\n",
        "\n",
        "\n",
        "\n",
        "def triplicar_lista(lista=[]):\n",
        "  lista.append(2)"
      ]
    },
    {
      "cell_type": "code",
      "execution_count": null,
      "metadata": {
        "colab": {
          "base_uri": "https://localhost:8080/",
          "height": 1000
        },
        "id": "bqZnh7_iQDzB",
        "outputId": "41b6248d-2336-4bfe-9d0a-55314d9d5624"
      },
      "outputs": [
        {
          "name": "stdout",
          "output_type": "stream",
          "text": [
            "\n",
            "================ MENU ================\n",
            "[d] Depositar\n",
            "[s] Sacar\n",
            "[e] Extrato\n",
            "[q] Sair\n",
            "================\n",
            "e\n",
            "\n",
            "================ EXTRATO ================\n",
            "Não foram realizadas movimentações.\n",
            "\n",
            "Saldo: R$ 0.00\n",
            "==========================================\n",
            "\n",
            "================ MENU ================\n",
            "[d] Depositar\n",
            "[s] Sacar\n",
            "[e] Extrato\n",
            "[q] Sair\n",
            "================\n",
            "d\n",
            "Informe o valor do depósito: 50000\n",
            "\n",
            "================ MENU ================\n",
            "[d] Depositar\n",
            "[s] Sacar\n",
            "[e] Extrato\n",
            "[q] Sair\n",
            "================\n",
            "s\n",
            "Informe o valor do saque: 500\n",
            "\n",
            "================ MENU ================\n",
            "[d] Depositar\n",
            "[s] Sacar\n",
            "[e] Extrato\n",
            "[q] Sair\n",
            "================\n",
            "s\n",
            "Informe o valor do saque: 250\n",
            "\n",
            "================ MENU ================\n",
            "[d] Depositar\n",
            "[s] Sacar\n",
            "[e] Extrato\n",
            "[q] Sair\n",
            "================\n",
            "s\n",
            "Informe o valor do saque: 50\n",
            "\n",
            "================ MENU ================\n",
            "[d] Depositar\n",
            "[s] Sacar\n",
            "[e] Extrato\n",
            "[q] Sair\n",
            "================\n",
            "s\n",
            "Informe o valor do saque: \n"
          ]
        },
        {
          "ename": "ValueError",
          "evalue": "could not convert string to float: ''",
          "output_type": "error",
          "traceback": [
            "\u001b[0;31m---------------------------------------------------------------------------\u001b[0m",
            "\u001b[0;31mValueError\u001b[0m                                Traceback (most recent call last)",
            "\u001b[0;32m<ipython-input-56-6fe0c37ee1d4>\u001b[0m in \u001b[0;36m<cell line: 17>\u001b[0;34m()\u001b[0m\n\u001b[1;32m     26\u001b[0m \u001b[0;34m\u001b[0m\u001b[0m\n\u001b[1;32m     27\u001b[0m   \u001b[0;32melif\u001b[0m \u001b[0mopcao\u001b[0m \u001b[0;34m==\u001b[0m \u001b[0;34m\"s\"\u001b[0m\u001b[0;34m:\u001b[0m\u001b[0;34m\u001b[0m\u001b[0;34m\u001b[0m\u001b[0m\n\u001b[0;32m---> 28\u001b[0;31m     \u001b[0mvalor\u001b[0m \u001b[0;34m=\u001b[0m \u001b[0mfloat\u001b[0m\u001b[0;34m(\u001b[0m\u001b[0minput\u001b[0m\u001b[0;34m(\u001b[0m\u001b[0;34m\"Informe o valor do saque: \"\u001b[0m\u001b[0;34m)\u001b[0m\u001b[0;34m)\u001b[0m\u001b[0;34m\u001b[0m\u001b[0;34m\u001b[0m\u001b[0m\n\u001b[0m\u001b[1;32m     29\u001b[0m     \u001b[0mexcedeu_saldo\u001b[0m \u001b[0;34m=\u001b[0m \u001b[0mvalor\u001b[0m \u001b[0;34m>\u001b[0m \u001b[0msaldo\u001b[0m\u001b[0;34m\u001b[0m\u001b[0;34m\u001b[0m\u001b[0m\n\u001b[1;32m     30\u001b[0m     \u001b[0mexcedeu_limite\u001b[0m \u001b[0;34m=\u001b[0m \u001b[0mvalor\u001b[0m \u001b[0;34m>\u001b[0m \u001b[0mlimite\u001b[0m\u001b[0;34m\u001b[0m\u001b[0;34m\u001b[0m\u001b[0m\n",
            "\u001b[0;31mValueError\u001b[0m: could not convert string to float: ''"
          ]
        }
      ],
      "source": [
        "#@title Curso Python - Desafio Sistema Banco\n",
        "\n",
        "menu = \"\"\"\n",
        "================ MENU ================\n",
        "[d] Depositar\n",
        "[s] Sacar\n",
        "[e] Extrato\n",
        "[q] Sair\n",
        "================\n",
        "\"\"\"\n",
        "saldo = 0\n",
        "limite = 500\n",
        "extrato = \"\"\n",
        "numero_saques = 0\n",
        "LIMITE_SAQUES = 3\n",
        "\n",
        "while True:\n",
        "  opcao = input(menu)\n",
        "  if opcao == \"d\":\n",
        "    valor = float(input(\"Informe o valor do depósito: \"))\n",
        "    if valor > 0:\n",
        "      saldo += valor\n",
        "      extrato += f\"Depósito: R$ {valor:.2f}\\n\"\n",
        "    else:\n",
        "      print(\"Operação falhou! O valor informado é inválido.\")\n",
        "\n",
        "  elif opcao == \"s\":\n",
        "    valor = float(input(\"Informe o valor do saque: \"))\n",
        "    excedeu_saldo = valor > saldo\n",
        "    excedeu_limite = valor > limite\n",
        "    excedeu_saques = numero_saques >= LIMITE_SAQUES\n",
        "    if excedeu_saldo:\n",
        "      print(\"Operação falhou! Você não tem saldo suficiente.\")\n",
        "    elif excedeu_limite:\n",
        "      print(\"Operação falhou! O valor do saque excede o limite.\")\n",
        "    elif excedeu_saques:\n",
        "      print(\"Operação falhou! Número máximo de saques excedido.\")\n",
        "    elif valor > 0:\n",
        "        saldo -= valor\n",
        "        extrato += f\"Saque: R$ {valor:.2f}\\n\"\n",
        "        numero_saques += 1\n",
        "    else:\n",
        "      print(\"Operação falhou! O valor informado é inválido.\")\n",
        "\n",
        "  elif opcao == \"e\":\n",
        "    print(\"\\n================ EXTRATO ================\")\n",
        "    print(\"Não foram realizadas movimentações.\" if not extrato else extrato)\n",
        "    print(f\"\\nSaldo: R$ {saldo:.2f}\")\n",
        "    print(\"==========================================\")\n",
        "\n",
        "  elif opcao == \"q\":\n",
        "    break\n",
        "  else:\n",
        "    print(\"Operação inválida, por favor selecione novamente a operação desejada.\")\n",
        "\n",
        "390"
      ]
    },
    {
      "cell_type": "code",
      "execution_count": null,
      "metadata": {
        "id": "IjTDuCmQxuIo"
      },
      "outputs": [],
      "source": []
    },
    {
      "cell_type": "code",
      "execution_count": null,
      "metadata": {
        "colab": {
          "base_uri": "https://localhost:8080/",
          "height": 512
        },
        "id": "UDkIa1gByr3t",
        "outputId": "f961ed47-14a0-4fc1-81c5-90b695627f79"
      },
      "outputs": [
        {
          "metadata": {
            "tags": null
          },
          "name": "stdout",
          "output_type": "stream",
          "text": [
            "Operação falhou! O valor do saque excede o limite.\n",
            "\n",
            "================ EXTRATO ================\n",
            "Depósito: R$ 77674768575.00\n",
            "Saque: R$ 99.00\n",
            "\n",
            "\n",
            "Saldo: R$ 77674768476.00\n",
            "==========================================\n"
          ]
        },
        {
          "output_type": "error",
          "ename": "KeyboardInterrupt",
          "evalue": "Interrupted by user",
          "traceback": [
            "\u001b[0;31m---------------------------------------------------------------------------\u001b[0m",
            "\u001b[0;31mKeyboardInterrupt\u001b[0m                         Traceback (most recent call last)",
            "\u001b[0;32m<ipython-input-5-c9b021a9a0ee>\u001b[0m in \u001b[0;36m<cell line: 17>\u001b[0;34m()\u001b[0m\n\u001b[1;32m     16\u001b[0m \u001b[0;34m\u001b[0m\u001b[0m\n\u001b[1;32m     17\u001b[0m \u001b[0;32mwhile\u001b[0m \u001b[0;32mTrue\u001b[0m\u001b[0;34m:\u001b[0m\u001b[0;34m\u001b[0m\u001b[0;34m\u001b[0m\u001b[0m\n\u001b[0;32m---> 18\u001b[0;31m   \u001b[0mopcao\u001b[0m \u001b[0;34m=\u001b[0m \u001b[0minput\u001b[0m\u001b[0;34m(\u001b[0m\u001b[0mmenu\u001b[0m\u001b[0;34m)\u001b[0m\u001b[0;34m\u001b[0m\u001b[0;34m\u001b[0m\u001b[0m\n\u001b[0m\u001b[1;32m     19\u001b[0m   \u001b[0;31m#if str(opcao) == True:\u001b[0m\u001b[0;34m\u001b[0m\u001b[0;34m\u001b[0m\u001b[0m\n\u001b[1;32m     20\u001b[0m   \u001b[0;32mif\u001b[0m \u001b[0mopcao\u001b[0m \u001b[0;34m==\u001b[0m \u001b[0;34m\"d\"\u001b[0m\u001b[0;34m:\u001b[0m\u001b[0;34m\u001b[0m\u001b[0;34m\u001b[0m\u001b[0m\n",
            "\u001b[0;32m/usr/local/lib/python3.10/dist-packages/ipykernel/kernelbase.py\u001b[0m in \u001b[0;36mraw_input\u001b[0;34m(self, prompt)\u001b[0m\n\u001b[1;32m    849\u001b[0m                 \u001b[0;34m\"raw_input was called, but this frontend does not support input requests.\"\u001b[0m\u001b[0;34m\u001b[0m\u001b[0;34m\u001b[0m\u001b[0m\n\u001b[1;32m    850\u001b[0m             )\n\u001b[0;32m--> 851\u001b[0;31m         return self._input_request(str(prompt),\n\u001b[0m\u001b[1;32m    852\u001b[0m             \u001b[0mself\u001b[0m\u001b[0;34m.\u001b[0m\u001b[0m_parent_ident\u001b[0m\u001b[0;34m,\u001b[0m\u001b[0;34m\u001b[0m\u001b[0;34m\u001b[0m\u001b[0m\n\u001b[1;32m    853\u001b[0m             \u001b[0mself\u001b[0m\u001b[0;34m.\u001b[0m\u001b[0m_parent_header\u001b[0m\u001b[0;34m,\u001b[0m\u001b[0;34m\u001b[0m\u001b[0;34m\u001b[0m\u001b[0m\n",
            "\u001b[0;32m/usr/local/lib/python3.10/dist-packages/ipykernel/kernelbase.py\u001b[0m in \u001b[0;36m_input_request\u001b[0;34m(self, prompt, ident, parent, password)\u001b[0m\n\u001b[1;32m    893\u001b[0m             \u001b[0;32mexcept\u001b[0m \u001b[0mKeyboardInterrupt\u001b[0m\u001b[0;34m:\u001b[0m\u001b[0;34m\u001b[0m\u001b[0;34m\u001b[0m\u001b[0m\n\u001b[1;32m    894\u001b[0m                 \u001b[0;31m# re-raise KeyboardInterrupt, to truncate traceback\u001b[0m\u001b[0;34m\u001b[0m\u001b[0;34m\u001b[0m\u001b[0m\n\u001b[0;32m--> 895\u001b[0;31m                 \u001b[0;32mraise\u001b[0m \u001b[0mKeyboardInterrupt\u001b[0m\u001b[0;34m(\u001b[0m\u001b[0;34m\"Interrupted by user\"\u001b[0m\u001b[0;34m)\u001b[0m \u001b[0;32mfrom\u001b[0m \u001b[0;32mNone\u001b[0m\u001b[0;34m\u001b[0m\u001b[0;34m\u001b[0m\u001b[0m\n\u001b[0m\u001b[1;32m    896\u001b[0m             \u001b[0;32mexcept\u001b[0m \u001b[0mException\u001b[0m \u001b[0;32mas\u001b[0m \u001b[0me\u001b[0m\u001b[0;34m:\u001b[0m\u001b[0;34m\u001b[0m\u001b[0;34m\u001b[0m\u001b[0m\n\u001b[1;32m    897\u001b[0m                 \u001b[0mself\u001b[0m\u001b[0;34m.\u001b[0m\u001b[0mlog\u001b[0m\u001b[0;34m.\u001b[0m\u001b[0mwarning\u001b[0m\u001b[0;34m(\u001b[0m\u001b[0;34m\"Invalid Message:\"\u001b[0m\u001b[0;34m,\u001b[0m \u001b[0mexc_info\u001b[0m\u001b[0;34m=\u001b[0m\u001b[0;32mTrue\u001b[0m\u001b[0;34m)\u001b[0m\u001b[0;34m\u001b[0m\u001b[0;34m\u001b[0m\u001b[0m\n",
            "\u001b[0;31mKeyboardInterrupt\u001b[0m: Interrupted by user"
          ]
        }
      ],
      "source": [
        "#@title Curso Python - Desafio Sistema Banco\n",
        "\n",
        "menu = \"\"\"\n",
        "================ MENU ================\n",
        "[d] Depositar\n",
        "[s] Sacar\n",
        "[e] Extrato\n",
        "[q] Sair\n",
        "================\n",
        "\"\"\"\n",
        "saldo = 0\n",
        "limite = 500\n",
        "extrato = \"\"\n",
        "numero_saques = 0\n",
        "LIMITE_SAQUES = 3\n",
        "\n",
        "while True:\n",
        "  opcao = input(menu)\n",
        "  #if str(opcao) == True:\n",
        "  if opcao == \"d\":\n",
        "    valor = float(input(\"Informe o valor do depósito: \"))\n",
        "    if valor > 0:\n",
        "      saldo += valor\n",
        "      extrato += f\"Depósito: R$ {valor:.2f}\\n\"\n",
        "    else:\n",
        "      print(\"Operação falhou! O valor informado é inválido.\")\n",
        "\n",
        "  elif opcao == \"s\":\n",
        "    valor = float(input(\"Informe o valor do saque: \"))\n",
        "    excedeu_saldo = valor > saldo\n",
        "    excedeu_limite = valor > limite\n",
        "    excedeu_saques = numero_saques >= LIMITE_SAQUES\n",
        "    if excedeu_saldo:\n",
        "      print(\"Operação falhou! Você não tem saldo suficiente.\")\n",
        "    elif excedeu_limite:\n",
        "      print(\"Operação falhou! O valor do saque excede o limite.\")\n",
        "    elif excedeu_saques:\n",
        "      print(\"Operação falhou! Número máximo de saques excedido.\")\n",
        "    elif valor > 0:\n",
        "        saldo -= valor\n",
        "        extrato += f\"Saque: R$ {valor:.2f}\\n\"\n",
        "        numero_saques += 1\n",
        "    else:\n",
        "      print(\"Operação falhou! O valor informado é inválido.\")\n",
        "\n",
        "  elif opcao == \"e\":\n",
        "    print(\"\\n================ EXTRATO ================\")\n",
        "    print(\"Não foram realizadas movimentações.\" if not extrato else extrato)\n",
        "    print(f\"\\nSaldo: R$ {saldo:.2f}\")\n",
        "    print(\"==========================================\")\n",
        "\n",
        "  elif opcao == \"q\":\n",
        "    break\n",
        "  else:\n",
        "    print(\"Operação inválida, por favor selecione novamente a operação desejada.\")\n",
        "  #else:\n",
        "    #print(\"Operação inválida, por favor selecione novamente a operação desejada.\")"
      ]
    },
    {
      "cell_type": "code",
      "source": [
        "#@title Curso Python - Conjuntos\n",
        "\n",
        "set([1,2,3,1,3,4])\n",
        "set([\"abacaxi\"])\n",
        "set([\"palio\",\"gol\",\"celta\",\"palio\"])\n",
        "\n",
        "print(set(\"abacaxi\"))\n",
        "print(set(\"banana\"))\n",
        "\n",
        "conjunto_a = {1,2,3}\n",
        "conjunto_b = {3,4,5,2,6,1}\n",
        "conjunto_c = {7,8,9}\n",
        "\n",
        "print(\"Conjuntos\")\n",
        "print(conjunto_a)\n",
        "print(conjunto_b)\n",
        "print(conjunto_c)\n",
        "\n",
        "print(\"União\")\n",
        "conjunto_a.union(conjunto_b)\n",
        "print(conjunto_a.union(conjunto_b))\n",
        "print(\"Intersecção\")\n",
        "conjunto_a.intersection(conjunto_b)\n",
        "print(conjunto_a.intersection(conjunto_b))\n",
        "print(\"Diferença a-b\")\n",
        "conjunto_a.difference(conjunto_b)\n",
        "print(conjunto_a.difference(conjunto_b))\n",
        "print(\"Diferença b-a\")\n",
        "conjunto_b.difference(conjunto_a)\n",
        "print(conjunto_b.difference(conjunto_a))\n",
        "print(\"Diferença simétrica\")\n",
        "conjunto_a.symmetric_difference(conjunto_b)\n",
        "print(conjunto_a.symmetric_difference(conjunto_b))\n",
        "print(\"Subconjunto a-b\")\n",
        "conjunto_a.issubset(conjunto_b)\n",
        "print(conjunto_a.issubset(conjunto_b))\n",
        "print(\"Subconjunto b-a\")\n",
        "conjunto_b.issubset(conjunto_a)\n",
        "print(conjunto_b.issubset(conjunto_a))\n",
        "print(\"Superconjunto a-b\")\n",
        "conjunto_a.issuperset(conjunto_b)\n",
        "print(conjunto_a.issuperset(conjunto_b))\n",
        "print(\"Superconjunto b-a\")\n",
        "conjunto_b.issuperset(conjunto_a)\n",
        "print(conjunto_b.issuperset(conjunto_a))\n",
        "print(\"Disjuntos a-b\")\n",
        "conjunto_a.isdisjoint(conjunto_b)\n",
        "print(conjunto_a.isdisjoint(conjunto_b))\n",
        "print(\"Disjuntos b-a\")\n",
        "conjunto_b.isdisjoint(conjunto_a)\n",
        "print(conjunto_b.isdisjoint(conjunto_a))\n",
        "print(\"Add\")\n",
        "conjunto_a.add(4)\n",
        "conjunto_a.add(2)\n",
        "print(conjunto_a)\n",
        "print(\"Discard\")\n",
        "conjunto_a.discard(2)\n",
        "print(conjunto_a)\n",
        "print(\"Copy\")\n",
        "conjunto_a.copy()\n",
        "print(conjunto_a)\n",
        "print(\"Pop\")\n",
        "conjunto_a.pop()\n",
        "print(conjunto_a)\n",
        "print(\"Remove\")\n",
        "conjunto_a.remove(3)\n",
        "print(conjunto_a)\n",
        "print(\"Update\")\n",
        "conjunto_a.update([1,2,3,4,5])\n",
        "print(conjunto_a)\n",
        "print(\"Clear\")\n",
        "conjunto_a.clear()\n",
        "print(conjunto_a)"
      ],
      "metadata": {
        "colab": {
          "base_uri": "https://localhost:8080/"
        },
        "id": "SFDjiBGQYcy7",
        "outputId": "6ca205db-8ea2-493e-a0b7-499570438881"
      },
      "execution_count": null,
      "outputs": [
        {
          "output_type": "stream",
          "name": "stdout",
          "text": [
            "{'x', 'i', 'c', 'b', 'a'}\n",
            "{'b', 'n', 'a'}\n",
            "Conjuntos\n",
            "{1, 2, 3}\n",
            "{1, 2, 3, 4, 5, 6}\n",
            "{8, 9, 7}\n",
            "União\n",
            "{1, 2, 3, 4, 5, 6}\n",
            "Intersecção\n",
            "{1, 2, 3}\n",
            "Diferença a-b\n",
            "set()\n",
            "Diferença b-a\n",
            "{4, 5, 6}\n",
            "Diferença simétrica\n",
            "{4, 5, 6}\n",
            "Subconjunto a-b\n",
            "True\n",
            "Subconjunto b-a\n",
            "False\n",
            "Superconjunto a-b\n",
            "False\n",
            "Superconjunto b-a\n",
            "True\n",
            "Disjuntos a-b\n",
            "False\n",
            "Disjuntos b-a\n",
            "False\n",
            "Add\n",
            "{1, 2, 3, 4}\n",
            "Discard\n",
            "{1, 3, 4}\n",
            "Copy\n",
            "{1, 3, 4}\n",
            "Pop\n",
            "{3, 4}\n",
            "Remove\n",
            "{4}\n",
            "Update\n",
            "{1, 2, 3, 4, 5}\n",
            "Clear\n",
            "set()\n"
          ]
        }
      ]
    },
    {
      "cell_type": "code",
      "source": [
        "#@title Curso Python - Dicionários e acessos aos dados\n",
        "\n",
        "pessoa = {\"nome\":\"Guilherme\",\"idade\":37,\"altura\":1.81}\n",
        "print(pessoa)\n",
        "print(pessoa[\"idade\"])\n",
        "print(pessoa[\"nome\"])\n",
        "print(pessoa[\"altura\"])\n",
        "print(pessoa.keys())\n",
        "print(pessoa.values())\n",
        "print(pessoa.items())\n",
        "print(pessoa.get(\"nome\"))\n",
        "print(pessoa.get(\"idade\"))\n",
        "print(pessoa.get(\"altura\"))\n",
        "pessoa = dict(nome=\"Guilherme\",idade=37,altura=1.81)\n",
        "print(pessoa)\n",
        "pessoa[\"telefone\"] = \"3333-1234\"\n",
        "print(pessoa)\n",
        "print(pessoa.get(\"telefone\"))\n",
        "pessoa[\"telefone\"] = \"9999-1234\"\n",
        "print(pessoa)\n",
        "print(pessoa.get(\"telefone\"))\n",
        "\n",
        "contatos = {\n",
        "    \"james.buchanan@examplepetstore.com\": {\"nome\": \"Guilherme\", \"telefone\": \"32165498\"},\n",
        "    \"james.buchanan@examplepetstore.com\": {\"nome\": \"Guilherme\", \"telefone\": \"32165498\"},\n",
        "    \"james.buchanan@examplepetstore.com\": {\"nome\": \"Guilherme\", \"telefone\": \"32165498\"},\n",
        "    \"james.buchanan@examplepetstore.com\": {\"nome\": \"Guilherme\", \"telefone\": \"32165498\"},\n",
        "    \"james.buchanan@examplepetstore.com\": {\"nome\": \"Guilherme\", \"telefone\": \"32165498\"},\n",
        "    \"john.c.calhoun@examplepetstore.com\": {\"nome\": \"Guilherme\", \"telefone\": \"32165498\"},\n",
        "    \"extra\":{\"\"}}\n",
        "\n",
        "contatos[\"james.buchanan@examplepetstore.com\"][\"telefone\"]\n",
        "\n",
        "print(contatos[\"john.c.calhoun@examplepetstore.com\"][\"telefone\"])\n",
        "\n",
        "for chave in contatos:\n",
        "  print(chave,contatos[chave])\n",
        "\n",
        "#mostra chave e valor\n",
        "for chave,valor in contatos.items():\n",
        "  print(chave,valor)"
      ],
      "metadata": {
        "colab": {
          "base_uri": "https://localhost:8080/"
        },
        "id": "CFAvQXu0neA_",
        "outputId": "59aebe6b-ff4f-4321-ec83-efa30ac8c097"
      },
      "execution_count": null,
      "outputs": [
        {
          "output_type": "stream",
          "name": "stdout",
          "text": [
            "{'nome': 'Guilherme', 'idade': 37, 'altura': 1.81}\n",
            "37\n",
            "Guilherme\n",
            "1.81\n",
            "dict_keys(['nome', 'idade', 'altura'])\n",
            "dict_values(['Guilherme', 37, 1.81])\n",
            "dict_items([('nome', 'Guilherme'), ('idade', 37), ('altura', 1.81)])\n",
            "Guilherme\n",
            "37\n",
            "1.81\n",
            "{'nome': 'Guilherme', 'idade': 37, 'altura': 1.81}\n",
            "{'nome': 'Guilherme', 'idade': 37, 'altura': 1.81, 'telefone': '3333-1234'}\n",
            "3333-1234\n",
            "{'nome': 'Guilherme', 'idade': 37, 'altura': 1.81, 'telefone': '9999-1234'}\n",
            "9999-1234\n",
            "32165498\n",
            "james.buchanan@examplepetstore.com {'nome': 'Guilherme', 'telefone': '32165498'}\n",
            "john.c.calhoun@examplepetstore.com {'nome': 'Guilherme', 'telefone': '32165498'}\n",
            "extra {''}\n",
            "james.buchanan@examplepetstore.com {'nome': 'Guilherme', 'telefone': '32165498'}\n",
            "john.c.calhoun@examplepetstore.com {'nome': 'Guilherme', 'telefone': '32165498'}\n",
            "extra {''}\n"
          ]
        }
      ]
    },
    {
      "cell_type": "code",
      "source": [
        "#@title Curso Python - Métodos da Classe Clear\n",
        "\n",
        "contatos = {\n",
        "    \"james.buchanan@examplepetstore.com\": {\"nome\": \"Guilherme\", \"telefone\": \"32165498\"},\n",
        "    \"james.buchanan@examplepetstore.com\": {\"nome\": \"Guilherme\", \"telefone\": \"32165498\"},\n",
        "    \"james.buchanan@examplepetstore.com\": {\"nome\": \"Guilherme\", \"telefone\": \"32165498\"},\n",
        "    \"james.buchanan@examplepetstore.com\": {\"nome\": \"Guilherme\", \"telefone\": \"32165498\"},\n",
        "    \"james.buchanan@examplepetstore.com\": {\"nome\": \"Guilherme\", \"telefone\": \"32165498\"},\n",
        "    \"john.c.calhoun@examplepetstore.com\": {\"nome\": \"Guilherme\", \"telefone\": \"32165498\"},\n",
        "    \"extra\":{\"\"}\n",
        "}\n",
        "\n",
        "#Clear\n",
        "contatos.clear()\n",
        "print(contatos)\n",
        "# {}\n",
        "\n",
        "#Copy\n",
        "\n",
        "copia = contatos.copy()\n",
        "print(copia)\n",
        "#\n",
        "\n",
        "contatos[\"james.buchanan@examplepetstore.com\"]\n",
        "copia[\"james.francis.byrnes@example-pet-store.com\"]\n",
        "\n",
        "dict.fromkeys([\"nome\",\"telefone\"])\n",
        "dict.fromkeys([\"nome\",\"telefone\"],\"vazio\")\n",
        "\n",
        "contatos.get(\"chave\")\n",
        "contatos.get(\"chave\",\"Não existe\")\n",
        "\n",
        "contatos.items()\n",
        "contatos.keys()\n",
        "contatos.values()\n",
        "\n",
        "contatos.get(\"chave\",{})\n",
        "contatos.get(\"james.buchanan@examplepetstore.com\",{})\n"
      ],
      "metadata": {
        "colab": {
          "base_uri": "https://localhost:8080/",
          "height": 228
        },
        "id": "8eby85DtyErx",
        "outputId": "953919e8-4734-4a9f-c7df-c6b6bb5226d8"
      },
      "execution_count": null,
      "outputs": [
        {
          "output_type": "stream",
          "name": "stdout",
          "text": [
            "{}\n",
            "{}\n"
          ]
        },
        {
          "output_type": "error",
          "ename": "KeyError",
          "evalue": "'james.buchanan@examplepetstore.com'",
          "traceback": [
            "\u001b[0;31m---------------------------------------------------------------------------\u001b[0m",
            "\u001b[0;31mKeyError\u001b[0m                                  Traceback (most recent call last)",
            "\u001b[0;32m<ipython-input-22-d9d3a0492745>\u001b[0m in \u001b[0;36m<cell line: 24>\u001b[0;34m()\u001b[0m\n\u001b[1;32m     22\u001b[0m \u001b[0;31m#\u001b[0m\u001b[0;34m\u001b[0m\u001b[0;34m\u001b[0m\u001b[0m\n\u001b[1;32m     23\u001b[0m \u001b[0;34m\u001b[0m\u001b[0m\n\u001b[0;32m---> 24\u001b[0;31m \u001b[0mcontatos\u001b[0m\u001b[0;34m[\u001b[0m\u001b[0;34m\"james.buchanan@examplepetstore.com\"\u001b[0m\u001b[0;34m]\u001b[0m\u001b[0;34m\u001b[0m\u001b[0;34m\u001b[0m\u001b[0m\n\u001b[0m\u001b[1;32m     25\u001b[0m \u001b[0mcopia\u001b[0m\u001b[0;34m[\u001b[0m\u001b[0;34m\"james.francis.byrnes@example-pet-store.com\"\u001b[0m\u001b[0;34m]\u001b[0m\u001b[0;34m\u001b[0m\u001b[0;34m\u001b[0m\u001b[0m\n",
            "\u001b[0;31mKeyError\u001b[0m: 'james.buchanan@examplepetstore.com'"
          ]
        }
      ]
    },
    {
      "cell_type": "code",
      "source": [],
      "metadata": {
        "id": "817Kh7fl35QK"
      },
      "execution_count": null,
      "outputs": []
    }
  ],
  "metadata": {
    "colab": {
      "provenance": [],
      "authorship_tag": "ABX9TyPEsDmLzirqQLFwQYm3qpGR",
      "include_colab_link": true
    },
    "kernelspec": {
      "display_name": "Python 3",
      "name": "python3"
    },
    "language_info": {
      "name": "python"
    }
  },
  "nbformat": 4,
  "nbformat_minor": 0
}
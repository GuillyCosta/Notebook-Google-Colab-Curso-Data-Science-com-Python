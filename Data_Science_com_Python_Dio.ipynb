{
  "cells": [
    {
      "cell_type": "markdown",
      "metadata": {
        "id": "view-in-github",
        "colab_type": "text"
      },
      "source": [
        "<a href=\"https://colab.research.google.com/github/GuillyCosta/Notebook-Google-Colab-Curso-Data-Science-com-Python/blob/main/Data_Science_com_Python_Dio.ipynb\" target=\"_parent\"><img src=\"https://colab.research.google.com/assets/colab-badge.svg\" alt=\"Open In Colab\"/></a>"
      ]
    },
    {
      "cell_type": "code",
      "execution_count": null,
      "metadata": {
        "colab": {
          "base_uri": "https://localhost:8080/",
          "height": 106
        },
        "id": "q24bDRs8YGrn",
        "outputId": "8f04ff6d-7174-4f5b-ad0f-f522495c1bd5"
      },
      "outputs": [
        {
          "output_type": "error",
          "ename": "SyntaxError",
          "evalue": "incomplete input (<ipython-input-1-715508330c74>, line 3)",
          "traceback": [
            "\u001b[0;36m  File \u001b[0;32m\"<ipython-input-1-715508330c74>\"\u001b[0;36m, line \u001b[0;32m3\u001b[0m\n\u001b[0;31m    '''curso = \"pYthon é uma linguagem de programação sucinta\"\u001b[0m\n\u001b[0m    ^\u001b[0m\n\u001b[0;31mSyntaxError\u001b[0m\u001b[0;31m:\u001b[0m incomplete input\n"
          ]
        }
      ],
      "source": [
        "#@title Curso Python - Maiúsculas e minúsculas\n",
        "\n",
        "'''curso = \"pYthon é uma linguagem de programação sucinta\"\n",
        "print(curso.upper())\n",
        "print(curso.lower())\n",
        "print(curso.swapcase())\n",
        "print(curso.capitalize())\n",
        "print(curso.title())\n",
        "print(curso)"
      ]
    },
    {
      "cell_type": "code",
      "execution_count": null,
      "metadata": {
        "id": "7ceQ0jVXY20R"
      },
      "outputs": [],
      "source": []
    },
    {
      "cell_type": "code",
      "execution_count": null,
      "metadata": {
        "colab": {
          "base_uri": "https://localhost:8080/",
          "height": 106
        },
        "id": "n3Yi20lwY3Mz",
        "outputId": "c5d8ed8d-e2cc-4c77-b731-7e2e965a3e39"
      },
      "outputs": [
        {
          "output_type": "error",
          "ename": "SyntaxError",
          "evalue": "incomplete input (<ipython-input-2-a5ff37e9f8be>, line 3)",
          "traceback": [
            "\u001b[0;36m  File \u001b[0;32m\"<ipython-input-2-a5ff37e9f8be>\"\u001b[0;36m, line \u001b[0;32m3\u001b[0m\n\u001b[0;31m    '''curso = \"     pYthon é uma linguagem de programação sucinta          \"\u001b[0m\n\u001b[0m    ^\u001b[0m\n\u001b[0;31mSyntaxError\u001b[0m\u001b[0;31m:\u001b[0m incomplete input\n"
          ]
        }
      ],
      "source": [
        "#@title Curso Python - Removendo espaços\n",
        "\n",
        "'''curso = \"     pYthon é uma linguagem de programação sucinta          \"\n",
        "curso2 = \"!\"\n",
        "print(curso.strip(),curso2)\n",
        "print(curso.lstrip(),curso2)\n",
        "print(curso.rstrip(),curso2)\n",
        "print(curso,curso2)"
      ]
    },
    {
      "cell_type": "code",
      "execution_count": null,
      "metadata": {
        "id": "bTKhWyJKZ9vX"
      },
      "outputs": [],
      "source": []
    },
    {
      "cell_type": "code",
      "execution_count": null,
      "metadata": {
        "colab": {
          "base_uri": "https://localhost:8080/",
          "height": 106
        },
        "id": "HhUPBl7fZ-ME",
        "outputId": "037a0fec-fec1-4763-a7e3-f5a9bf75ebdb"
      },
      "outputs": [
        {
          "output_type": "error",
          "ename": "SyntaxError",
          "evalue": "incomplete input (<ipython-input-3-0892067a4dc0>, line 3)",
          "traceback": [
            "\u001b[0;36m  File \u001b[0;32m\"<ipython-input-3-0892067a4dc0>\"\u001b[0;36m, line \u001b[0;32m3\u001b[0m\n\u001b[0;31m    '''curso = \"Python\"\u001b[0m\n\u001b[0m    ^\u001b[0m\n\u001b[0;31mSyntaxError\u001b[0m\u001b[0;31m:\u001b[0m incomplete input\n"
          ]
        }
      ],
      "source": [
        "#@title Curso Python - Junções e Centralização\n",
        "\n",
        "'''curso = \"Python\"\n",
        "print(curso.center(10,\"#\"))\n",
        "print(curso.ljust(10,\"#\"))\n",
        "print(curso.rjust(10,\"#\"))\n",
        "print(curso.zfill(10) )\n",
        "print(\".\".join(curso))"
      ]
    },
    {
      "cell_type": "code",
      "execution_count": null,
      "metadata": {
        "colab": {
          "base_uri": "https://localhost:8080/",
          "height": 106
        },
        "id": "sd3VNZF_bDaB",
        "outputId": "233fe4f5-ec4f-4a90-bd8f-f724d7a8be6f"
      },
      "outputs": [
        {
          "output_type": "error",
          "ename": "SyntaxError",
          "evalue": "incomplete input (<ipython-input-4-058a1e6e4e18>, line 3)",
          "traceback": [
            "\u001b[0;36m  File \u001b[0;32m\"<ipython-input-4-058a1e6e4e18>\"\u001b[0;36m, line \u001b[0;32m3\u001b[0m\n\u001b[0;31m    '''nome = \"Joãozinho\"\u001b[0m\n\u001b[0m    ^\u001b[0m\n\u001b[0;31mSyntaxError\u001b[0m\u001b[0;31m:\u001b[0m incomplete input\n"
          ]
        }
      ],
      "source": [
        "#@title Curso Python - exemplos\n",
        "\n",
        "'''nome = \"Joãozinho\"\n",
        "menu = \"Python para hoje\"\n",
        "\n",
        "for letra in menu:\n",
        "  #print(f\"{letra} {nome}\")\n",
        "  print(\"-\".join(menu))"
      ]
    },
    {
      "cell_type": "code",
      "execution_count": null,
      "metadata": {
        "colab": {
          "base_uri": "https://localhost:8080/",
          "height": 106
        },
        "id": "WGGX4gMgcb3s",
        "outputId": "113f0770-24db-47cb-8acf-ad74033f2dbc"
      },
      "outputs": [
        {
          "output_type": "error",
          "ename": "SyntaxError",
          "evalue": "incomplete input (<ipython-input-5-6884a4e97447>, line 3)",
          "traceback": [
            "\u001b[0;36m  File \u001b[0;32m\"<ipython-input-5-6884a4e97447>\"\u001b[0;36m, line \u001b[0;32m3\u001b[0m\n\u001b[0;31m    '''profissão = \"programador\"\u001b[0m\n\u001b[0m    ^\u001b[0m\n\u001b[0;31mSyntaxError\u001b[0m\u001b[0;31m:\u001b[0m incomplete input\n"
          ]
        }
      ],
      "source": [
        "#@title Curso Python - interpolação de variáveis\n",
        "\n",
        "'''profissão = \"programador\"\n",
        "linguagem = \"Python\"\n",
        "\n",
        "print(f\"Eu sou um {profissão} e estou aprendendo {linguagem}\")\n",
        "print(\"Eu sou um {} e estou aprendendo {}\".format(profissão,linguagem))\n",
        "print(\"Eu sou um %s e estou aprendendo %s\" % (profissão,linguagem))\n",
        "print(\"Eu sou um {} e estou aprendendo {}\".format(profissão,linguagem))\n",
        "print(\"Eu sou um {0} e estou aprendendo {1}\".format(profissão,linguagem))\n",
        "print(\"Eu estou aprendendo {1} e sou um {0}\".format(profissão,linguagem))\n",
        "print(\"Eu sou um {profissão} e estou aprendendo {linguagem}\".format(profissão=profissão,linguagem=linguagem))\n",
        "print(\"Eu sou um {profissão} e estou aprendendo {linguagem}\".format(linguagem=linguagem,profissão=profissão))\n",
        "print(f\"Eu sou um {profissão} e estou aprendendo {linguagem}\")\n",
        "print(f\"Eu sou um {profissão} e estou aprendendo {linguagem}\")\n",
        "print(\"Eu sou um {profissao} e estou aprendendo {linguagem}\".format(profissao=\"programador\",linguagem=\"Python\"))\n",
        "print(\"Eu sou um {profissao} e estou aprendendo {linguagem}\".format(profissao=profissão,linguagem=linguagem))\n",
        "\n",
        "dados = {\"idade\":38,\"cidade\":\"Sorocaba\",\"telefone\":\"+5515999999999\"}\n",
        "print(\"Eu tenho {dados[idade]} anos, moro em {dados[cidade]} e meu telefone é {dados[telefone]}\")\n",
        "#print(f\"Eu tenho {dados[idade]} anos, moro em {dados[cidade]} e meu telefone é {dados[telefone]}\")\n",
        "print(\"Eu tenho {dados[idade]} anos, moro em {dados[cidade]} e meu telefone é {dados[telefone]}\")\n",
        "print(\"Eu tenho {dados[idade]} anos, moro em {dados[cidade]} e meu telefone é {dados[telefone]}\")\n",
        "print(\"Eu tenho {idade} anos, moro em {cidade} e meu telefone é {telefone}\".format(idade=38,cidade=\"Sorocaba\",telefone=\"+5515999999999\"))\n",
        "#print(\"Eu tenho {idade} anos, moro em {cidade} e meu telefone é {telefone}\".format(idade=idade,cidade=cidade,telefone=telefone))\n",
        "\n",
        "saldo = 23413498723.345\n",
        "print(f\"Seu saldo é de {saldo:10.2f}\")"
      ]
    },
    {
      "cell_type": "code",
      "execution_count": null,
      "metadata": {
        "colab": {
          "base_uri": "https://localhost:8080/",
          "height": 106
        },
        "id": "2f1tZvW5jQSW",
        "outputId": "eea99f55-6722-4385-c482-8b625241672e"
      },
      "outputs": [
        {
          "output_type": "error",
          "ename": "SyntaxError",
          "evalue": "incomplete input (<ipython-input-6-352ef1eb6ea9>, line 3)",
          "traceback": [
            "\u001b[0;36m  File \u001b[0;32m\"<ipython-input-6-352ef1eb6ea9>\"\u001b[0;36m, line \u001b[0;32m3\u001b[0m\n\u001b[0;31m    '''nome = \"Guilherme Henrique dos Santos Costa\"\u001b[0m\n\u001b[0m    ^\u001b[0m\n\u001b[0;31mSyntaxError\u001b[0m\u001b[0;31m:\u001b[0m incomplete input\n"
          ]
        }
      ],
      "source": [
        "#@title Curso Python - Fatiamento de String\n",
        "\n",
        "'''nome = \"Guilherme Henrique dos Santos Costa\"\n",
        "\n",
        "nome[0]\n",
        "print(nome[0])\n",
        "nome[:9]\n",
        "print(nome[:9])\n",
        "nome[10:]\n",
        "print(nome[10:])\n",
        "nome[10:16]\n",
        "print(nome[10:16])\n",
        "nome[10:16:2]\n",
        "print(nome[10:16:2])\n",
        "nome[::]\n",
        "print(nome[::])\n",
        "nome[::-1]\n",
        "print(nome[::-1])"
      ]
    },
    {
      "cell_type": "code",
      "execution_count": null,
      "metadata": {
        "colab": {
          "base_uri": "https://localhost:8080/",
          "height": 106
        },
        "id": "AW9WADhakPHS",
        "outputId": "99157153-9866-4c37-8839-f090503dd194"
      },
      "outputs": [
        {
          "output_type": "error",
          "ename": "SyntaxError",
          "evalue": "incomplete input (<ipython-input-7-f9657944c5f9>, line 26)",
          "traceback": [
            "\u001b[0;36m  File \u001b[0;32m\"<ipython-input-7-f9657944c5f9>\"\u001b[0;36m, line \u001b[0;32m26\u001b[0m\n\u001b[0;31m    '''\u001b[0m\n\u001b[0m    ^\u001b[0m\n\u001b[0;31mSyntaxError\u001b[0m\u001b[0;31m:\u001b[0m incomplete input\n"
          ]
        }
      ],
      "source": [
        "#@title Curso Python - String de múltiplas linhas\n",
        "\n",
        "mensagem = f'''\n",
        "    Olá, meu nome é {nome},\n",
        "  Eu estou aprendendo Python.\n",
        "        Esta mensagem tem diferentes recuos.\n",
        "'''\n",
        "print(mensagem)\n",
        "\n",
        "print(\"\"\"\n",
        "\n",
        "    ==============MENU================\n",
        "\n",
        "    1 - Depositar\n",
        "    2 - Sacar\n",
        "    3 - Extrato\n",
        "    0 - Sair\n",
        "\n",
        "    ==================================\n",
        "\n",
        "    Obrigado por usar nosso sistema!!!\n",
        "\"\"\"\n",
        ")\n",
        "\n",
        "#OR\n",
        "'''\n",
        "menu = \"==============MENU================\\n\"\n",
        "menu += \"1 - Depositar\\n\"\n",
        "menu += \"2 - Sacar\\n\"\n",
        "menu += \"3 - Extrato\\n\"\n",
        "menu += \"0 - Sair\\n\"\n",
        "menu += \"==================================\"\n",
        "menu += \"\\nObrigado por usar nosso sistema!!!\"\n",
        "\n",
        "print(menu)"
      ]
    },
    {
      "cell_type": "code",
      "execution_count": null,
      "metadata": {
        "colab": {
          "base_uri": "https://localhost:8080/",
          "height": 106
        },
        "id": "uSrlJpjCmoia",
        "outputId": "c6ad369d-95f0-46f8-9666-07634d8705ba"
      },
      "outputs": [
        {
          "output_type": "error",
          "ename": "SyntaxError",
          "evalue": "incomplete input (<ipython-input-8-7d46221d74a4>, line 3)",
          "traceback": [
            "\u001b[0;36m  File \u001b[0;32m\"<ipython-input-8-7d46221d74a4>\"\u001b[0;36m, line \u001b[0;32m3\u001b[0m\n\u001b[0;31m    '''def exibir_mensagem():\u001b[0m\n\u001b[0m    ^\u001b[0m\n\u001b[0;31mSyntaxError\u001b[0m\u001b[0;31m:\u001b[0m incomplete input\n"
          ]
        }
      ],
      "source": [
        "#@title Curso Python - Funções Pt 1\n",
        "\n",
        "'''def exibir_mensagem():\n",
        "  print(\"Olá Mundo!\")\n",
        "\n",
        "def exibir_mensagem_2(nome):\n",
        "  print(f\"Seja bem vindo {nome}!\")\n",
        "\n",
        "def exibir_mensagem_3(nome=\"Anônimo\"):\n",
        "  print(f\"Seja bem vindo {nome}!\")\n",
        "\n",
        "exibir_mensagem()\n",
        "exibir_mensagem_2(\"Guilherme\")\n",
        "exibir_mensagem_3()\n",
        "exibir_mensagem_3(\"Guilherme\")\n",
        "\n",
        "#retornando valores\n",
        "\n",
        "def calcular_total(numeros):\n",
        "  return sum(numeros)\n",
        "\n",
        "def retorna_antecessor_e_sucessor(numero):\n",
        "  antecessor = numero - 1\n",
        "  sucessor = numero + 1\n",
        "  return antecessor,sucessor\n",
        "\n",
        "print(calcular_total([10,20,34]))\n",
        "print(retorna_antecessor_e_sucessor(10))\n",
        "#desempacotamento\n",
        "a,b = retorna_antecessor_e_sucessor(10)\n",
        "print(a)\n",
        "print(b)\n",
        "c,d = retorna_antecessor_e_sucessor(calcular_total([10,20,34]))\n",
        "print(c)\n",
        "print(d)\n",
        "\n",
        "def funcao(var1=0,var2=0,var3=0,var4=0):\n",
        "  print(var1,var2,var3,var4)\n",
        "\n",
        "funcao(1,2,3,4)\n",
        "\n",
        "def func_3():\n",
        "  print(\"Olá Mundo!\")\n",
        "  return None\n",
        "#func_3()\n",
        "\n",
        "def salvar_carro(marca,modelo,ano,placa):\n",
        "  print(f\"Carro inserido com sucesso! {marca}/{modelo}/{ano}/{placa}\")\n",
        "salvar_carro(\"Fiat\",\"Palio\",1999,\"ABC-1234\")\n",
        "salvar_carro(marca=\"Fiat\",modelo=\"Palio\",ano=1999,placa=\"ABC-1234\")\n",
        "salvar_carro(**{\"marca\":\"Fiat\",\"modelo\":\"Palio\",\"ano\":1999,\"placa\":\"ABC-1234\"})\n",
        "#Carro inserido com sucesso! Fiat/Palio/1999/ABC-1234\n",
        "\n",
        "def exibir_poema(data_extenso, *lista, **dicionario):\n",
        "  texto = \"\\n\".join(lista)\n",
        "  meta_dados = \"\\n\".join([f\"{chave.title()}: {valor}\" for chave,valor in dicionario.items()])\n",
        "  mensagem = f\"{data_extenso}\\n\\n{texto}\\n\\n{meta_dados}\"\n",
        "  print(mensagem)\n",
        "\n",
        "exibir_poema(\"Quinta 24 out 2024\",\n",
        "    \"Zen of Python\",\n",
        "    \"Beautiful is better than ugly.\",\n",
        "    \"Explicit is better than implicit\",\n",
        "    \"Simple is better than complex.\",\n",
        "    \"Complex is better than complicated.\",autor=\"Tim Peters\", ano=1999)"
      ]
    },
    {
      "cell_type": "code",
      "execution_count": null,
      "metadata": {
        "colab": {
          "base_uri": "https://localhost:8080/",
          "height": 106
        },
        "id": "at7S0wmUBW3T",
        "outputId": "99db0aec-12bb-4be8-824a-4b29a08edf8e"
      },
      "outputs": [
        {
          "output_type": "error",
          "ename": "SyntaxError",
          "evalue": "incomplete input (<ipython-input-9-f0845c36d87b>, line 3)",
          "traceback": [
            "\u001b[0;36m  File \u001b[0;32m\"<ipython-input-9-f0845c36d87b>\"\u001b[0;36m, line \u001b[0;32m3\u001b[0m\n\u001b[0;31m    '''def criar_carro(modelo, ano, placa, /, marca, motor, combustivel):\u001b[0m\n\u001b[0m    ^\u001b[0m\n\u001b[0;31mSyntaxError\u001b[0m\u001b[0;31m:\u001b[0m incomplete input\n"
          ]
        }
      ],
      "source": [
        "#@title Curso Python - Funções Pt 2\n",
        "\n",
        "'''def criar_carro(modelo, ano, placa, /, marca, motor, combustivel):\n",
        "  print(modelo,ano,placa,marca,motor,combustivel)\n",
        "\n",
        "criar_carro(\"Palio\",1999,\"ABC-1234\",\"Fiat\",motor=\"1.0\",combustivel=\"Gasolina\") # válido\n",
        "\n",
        "#criar_carro(modelo=\"Palio\",ano=1999,placa=\"ABC-1234\",marca=\"Fiat\",motor=\"1.0\",combustivel=\"Gasolina\") #inválido\n",
        "\n",
        "def somar(a,b):\n",
        "  return a + b\n",
        "\n",
        "def exibir_resultado(a,b,funcao):\n",
        "  resultado = funcao(a,b)\n",
        "  print(f\"O resultado de {a} + {b} = {resultado}\")\n",
        "\n",
        "exibir_resultado(10,10,somar)\n",
        "\n",
        "def multiplicar_por_dez(numero):\n",
        "  return numero * 10\n",
        "\n",
        "def calcular_preco_final(preco_bruto,taxas = []):\n",
        "  if not taxas:\n",
        "    taxas = []\n",
        "  preco_final = preco_bruto + sum(taxas)\n",
        "  return preco_final\n",
        "\n",
        "print(calcular_preco_final(100))\n",
        "print(calcular_preco_final(100,[10,20,30]))\n",
        "\n",
        "def salario_bonus(bonus,lista):\n",
        "  global salario\n",
        "  salario = 2500\n",
        "\n",
        "  lista_aux = lista.copy()\n",
        "  lista_aux.append(2)\n",
        "  print(f\"lista aux={lista_aux}\")\n",
        "\n",
        "  salario += bonus\n",
        "  return salario\n",
        "\n",
        "lista = [1]\n",
        "salario_com_bonus = salario_bonus(1000,lista)\n",
        "print(lista)\n",
        "print(salario_com_bonus)\n",
        "\n",
        "#salarios = []\n",
        "#salario_bonus(1000,salarios)\n",
        "#print(salarios)\n",
        "\n",
        "\n",
        "\n",
        "def triplicar_lista(lista=[]):\n",
        "  lista.append(2)"
      ]
    },
    {
      "cell_type": "code",
      "execution_count": null,
      "metadata": {
        "colab": {
          "base_uri": "https://localhost:8080/",
          "height": 106
        },
        "id": "bqZnh7_iQDzB",
        "outputId": "6e185a3f-2dd1-427e-fa26-ffd7a3dc692c"
      },
      "outputs": [
        {
          "output_type": "error",
          "ename": "SyntaxError",
          "evalue": "incomplete input (<ipython-input-10-ad40dc4bd50f>, line 3)",
          "traceback": [
            "\u001b[0;36m  File \u001b[0;32m\"<ipython-input-10-ad40dc4bd50f>\"\u001b[0;36m, line \u001b[0;32m3\u001b[0m\n\u001b[0;31m    '''menu = \"\"\"\u001b[0m\n\u001b[0m    ^\u001b[0m\n\u001b[0;31mSyntaxError\u001b[0m\u001b[0;31m:\u001b[0m incomplete input\n"
          ]
        }
      ],
      "source": [
        "#@title Curso Python - Desafio Sistema Banco\n",
        "\n",
        "'''menu = \"\"\"\n",
        "================ MENU ================\n",
        "[d] Depositar\n",
        "[s] Sacar\n",
        "[e] Extrato\n",
        "[q] Sair\n",
        "================\n",
        "\"\"\"\n",
        "saldo = 0\n",
        "limite = 500\n",
        "extrato = \"\"\n",
        "numero_saques = 0\n",
        "LIMITE_SAQUES = 3\n",
        "\n",
        "while True:\n",
        "  opcao = input(menu)\n",
        "  if opcao == \"d\":\n",
        "    valor = float(input(\"Informe o valor do depósito: \"))\n",
        "    if valor > 0:\n",
        "      saldo += valor\n",
        "      extrato += f\"Depósito: R$ {valor:.2f}\\n\"\n",
        "    else:\n",
        "      print(\"Operação falhou! O valor informado é inválido.\")\n",
        "\n",
        "  elif opcao == \"s\":\n",
        "    valor = float(input(\"Informe o valor do saque: \"))\n",
        "    excedeu_saldo = valor > saldo\n",
        "    excedeu_limite = valor > limite\n",
        "    excedeu_saques = numero_saques >= LIMITE_SAQUES\n",
        "    if excedeu_saldo:\n",
        "      print(\"Operação falhou! Você não tem saldo suficiente.\")\n",
        "    elif excedeu_limite:\n",
        "      print(\"Operação falhou! O valor do saque excede o limite.\")\n",
        "    elif excedeu_saques:\n",
        "      print(\"Operação falhou! Número máximo de saques excedido.\")\n",
        "    elif valor > 0:\n",
        "        saldo -= valor\n",
        "        extrato += f\"Saque: R$ {valor:.2f}\\n\"\n",
        "        numero_saques += 1\n",
        "    else:\n",
        "      print(\"Operação falhou! O valor informado é inválido.\")\n",
        "\n",
        "  elif opcao == \"e\":\n",
        "    print(\"\\n================ EXTRATO ================\")\n",
        "    print(\"Não foram realizadas movimentações.\" if not extrato else extrato)\n",
        "    print(f\"\\nSaldo: R$ {saldo:.2f}\")\n",
        "    print(\"==========================================\")\n",
        "\n",
        "  elif opcao == \"q\":\n",
        "    break\n",
        "  else:\n",
        "    print(\"Operação inválida, por favor selecione novamente a operação desejada.\")\n",
        "\n",
        "390"
      ]
    },
    {
      "cell_type": "code",
      "execution_count": null,
      "metadata": {
        "id": "IjTDuCmQxuIo"
      },
      "outputs": [],
      "source": []
    },
    {
      "cell_type": "code",
      "execution_count": null,
      "metadata": {
        "colab": {
          "base_uri": "https://localhost:8080/",
          "height": 106
        },
        "id": "UDkIa1gByr3t",
        "outputId": "547e14d2-dc09-4d7b-c102-fc3e49ec4457"
      },
      "outputs": [
        {
          "output_type": "error",
          "ename": "SyntaxError",
          "evalue": "incomplete input (<ipython-input-11-0910045803ba>, line 3)",
          "traceback": [
            "\u001b[0;36m  File \u001b[0;32m\"<ipython-input-11-0910045803ba>\"\u001b[0;36m, line \u001b[0;32m3\u001b[0m\n\u001b[0;31m    '''menu = \"\"\"\u001b[0m\n\u001b[0m    ^\u001b[0m\n\u001b[0;31mSyntaxError\u001b[0m\u001b[0;31m:\u001b[0m incomplete input\n"
          ]
        }
      ],
      "source": [
        "#@title Curso Python - Desafio Sistema Banco\n",
        "\n",
        "'''menu = \"\"\"\n",
        "================ MENU ================\n",
        "[d] Depositar\n",
        "[s] Sacar\n",
        "[e] Extrato\n",
        "[q] Sair\n",
        "================\n",
        "\"\"\"\n",
        "saldo = 0\n",
        "limite = 500\n",
        "extrato = \"\"\n",
        "numero_saques = 0\n",
        "LIMITE_SAQUES = 3\n",
        "\n",
        "while True:\n",
        "  opcao = input(menu)\n",
        "  #if str(opcao) == True:\n",
        "  if opcao == \"d\":\n",
        "    valor = float(input(\"Informe o valor do depósito: \"))\n",
        "    if valor > 0:\n",
        "      saldo += valor\n",
        "      extrato += f\"Depósito: R$ {valor:.2f}\\n\"\n",
        "    else:\n",
        "      print(\"Operação falhou! O valor informado é inválido.\")\n",
        "\n",
        "  elif opcao == \"s\":\n",
        "    valor = float(input(\"Informe o valor do saque: \"))\n",
        "    excedeu_saldo = valor > saldo\n",
        "    excedeu_limite = valor > limite\n",
        "    excedeu_saques = numero_saques >= LIMITE_SAQUES\n",
        "    if excedeu_saldo:\n",
        "      print(\"Operação falhou! Você não tem saldo suficiente.\")\n",
        "    elif excedeu_limite:\n",
        "      print(\"Operação falhou! O valor do saque excede o limite.\")\n",
        "    elif excedeu_saques:\n",
        "      print(\"Operação falhou! Número máximo de saques excedido.\")\n",
        "    elif valor > 0:\n",
        "        saldo -= valor\n",
        "        extrato += f\"Saque: R$ {valor:.2f}\\n\"\n",
        "        numero_saques += 1\n",
        "    else:\n",
        "      print(\"Operação falhou! O valor informado é inválido.\")\n",
        "\n",
        "  elif opcao == \"e\":\n",
        "    print(\"\\n================ EXTRATO ================\")\n",
        "    print(\"Não foram realizadas movimentações.\" if not extrato else extrato)\n",
        "    print(f\"\\nSaldo: R$ {saldo:.2f}\")\n",
        "    print(\"==========================================\")\n",
        "\n",
        "  elif opcao == \"q\":\n",
        "    break\n",
        "  else:\n",
        "    print(\"Operação inválida, por favor selecione novamente a operação desejada.\")\n",
        "  #else:\n",
        "    #print(\"Operação inválida, por favor selecione novamente a operação desejada.\")"
      ]
    },
    {
      "cell_type": "code",
      "source": [
        "#@title Curso Python - Conjuntos\n",
        "\n",
        "'''set([1,2,3,1,3,4])\n",
        "set([\"abacaxi\"])\n",
        "set([\"palio\",\"gol\",\"celta\",\"palio\"])\n",
        "\n",
        "print(set(\"abacaxi\"))\n",
        "print(set(\"banana\"))\n",
        "\n",
        "conjunto_a = {1,2,3}\n",
        "conjunto_b = {3,4,5,2,6,1}\n",
        "conjunto_c = {7,8,9}\n",
        "\n",
        "print(\"Conjuntos\")\n",
        "print(conjunto_a)\n",
        "print(conjunto_b)\n",
        "print(conjunto_c)\n",
        "\n",
        "print(\"União\")\n",
        "conjunto_a.union(conjunto_b)\n",
        "print(conjunto_a.union(conjunto_b))\n",
        "print(\"Intersecção\")\n",
        "conjunto_a.intersection(conjunto_b)\n",
        "print(conjunto_a.intersection(conjunto_b))\n",
        "print(\"Diferença a-b\")\n",
        "conjunto_a.difference(conjunto_b)\n",
        "print(conjunto_a.difference(conjunto_b))\n",
        "print(\"Diferença b-a\")\n",
        "conjunto_b.difference(conjunto_a)\n",
        "print(conjunto_b.difference(conjunto_a))\n",
        "print(\"Diferença simétrica\")\n",
        "conjunto_a.symmetric_difference(conjunto_b)\n",
        "print(conjunto_a.symmetric_difference(conjunto_b))\n",
        "print(\"Subconjunto a-b\")\n",
        "conjunto_a.issubset(conjunto_b)\n",
        "print(conjunto_a.issubset(conjunto_b))\n",
        "print(\"Subconjunto b-a\")\n",
        "conjunto_b.issubset(conjunto_a)\n",
        "print(conjunto_b.issubset(conjunto_a))\n",
        "print(\"Superconjunto a-b\")\n",
        "conjunto_a.issuperset(conjunto_b)\n",
        "print(conjunto_a.issuperset(conjunto_b))\n",
        "print(\"Superconjunto b-a\")\n",
        "conjunto_b.issuperset(conjunto_a)\n",
        "print(conjunto_b.issuperset(conjunto_a))\n",
        "print(\"Disjuntos a-b\")\n",
        "conjunto_a.isdisjoint(conjunto_b)\n",
        "print(conjunto_a.isdisjoint(conjunto_b))\n",
        "print(\"Disjuntos b-a\")\n",
        "conjunto_b.isdisjoint(conjunto_a)\n",
        "print(conjunto_b.isdisjoint(conjunto_a))\n",
        "print(\"Add\")\n",
        "conjunto_a.add(4)\n",
        "conjunto_a.add(2)\n",
        "print(conjunto_a)\n",
        "print(\"Discard\")\n",
        "conjunto_a.discard(2)\n",
        "print(conjunto_a)\n",
        "print(\"Copy\")\n",
        "conjunto_a.copy()\n",
        "print(conjunto_a)\n",
        "print(\"Pop\")\n",
        "conjunto_a.pop()\n",
        "print(conjunto_a)\n",
        "print(\"Remove\")\n",
        "conjunto_a.remove(3)\n",
        "print(conjunto_a)\n",
        "print(\"Update\")\n",
        "conjunto_a.update([1,2,3,4,5])\n",
        "print(conjunto_a)\n",
        "print(\"Clear\")\n",
        "conjunto_a.clear()\n",
        "print(conjunto_a)"
      ],
      "metadata": {
        "colab": {
          "base_uri": "https://localhost:8080/",
          "height": 106
        },
        "id": "SFDjiBGQYcy7",
        "outputId": "1bd67554-c1ac-4f8b-f556-7c0cb907bb46"
      },
      "execution_count": null,
      "outputs": [
        {
          "output_type": "error",
          "ename": "SyntaxError",
          "evalue": "incomplete input (<ipython-input-12-394332786e43>, line 3)",
          "traceback": [
            "\u001b[0;36m  File \u001b[0;32m\"<ipython-input-12-394332786e43>\"\u001b[0;36m, line \u001b[0;32m3\u001b[0m\n\u001b[0;31m    '''set([1,2,3,1,3,4])\u001b[0m\n\u001b[0m    ^\u001b[0m\n\u001b[0;31mSyntaxError\u001b[0m\u001b[0;31m:\u001b[0m incomplete input\n"
          ]
        }
      ]
    },
    {
      "cell_type": "code",
      "source": [
        "#@title Curso Python - Dicionários e acessos aos dados\n",
        "\n",
        "'''pessoa = {\"nome\":\"Guilherme\",\"idade\":37,\"altura\":1.81}\n",
        "print(pessoa)\n",
        "print(pessoa[\"idade\"])\n",
        "print(pessoa[\"nome\"])\n",
        "print(pessoa[\"altura\"])\n",
        "print(pessoa.keys())\n",
        "print(pessoa.values())\n",
        "print(pessoa.items())\n",
        "print(pessoa.get(\"nome\"))\n",
        "print(pessoa.get(\"idade\"))\n",
        "print(pessoa.get(\"altura\"))\n",
        "pessoa = dict(nome=\"Guilherme\",idade=37,altura=1.81)\n",
        "print(pessoa)\n",
        "pessoa[\"telefone\"] = \"3333-1234\"\n",
        "print(pessoa)\n",
        "print(pessoa.get(\"telefone\"))\n",
        "pessoa[\"telefone\"] = \"9999-1234\"\n",
        "print(pessoa)\n",
        "print(pessoa.get(\"telefone\"))\n",
        "\n",
        "contatos = {\n",
        "    \"james.buchanan@examplepetstore.com\": {\"nome\": \"Guilherme\", \"telefone\": \"32165498\"},\n",
        "    \"james.buchanan@examplepetstore.com\": {\"nome\": \"Guilherme\", \"telefone\": \"32165498\"},\n",
        "    \"james.buchanan@examplepetstore.com\": {\"nome\": \"Guilherme\", \"telefone\": \"32165498\"},\n",
        "    \"james.buchanan@examplepetstore.com\": {\"nome\": \"Guilherme\", \"telefone\": \"32165498\"},\n",
        "    \"james.buchanan@examplepetstore.com\": {\"nome\": \"Guilherme\", \"telefone\": \"32165498\"},\n",
        "    \"john.c.calhoun@examplepetstore.com\": {\"nome\": \"Guilherme\", \"telefone\": \"32165498\"},\n",
        "    \"extra\":{\"\"}}\n",
        "\n",
        "contatos[\"james.buchanan@examplepetstore.com\"][\"telefone\"]\n",
        "\n",
        "print(contatos[\"john.c.calhoun@examplepetstore.com\"][\"telefone\"])\n",
        "\n",
        "for chave in contatos:\n",
        "  print(chave,contatos[chave])\n",
        "\n",
        "#mostra chave e valor\n",
        "for chave,valor in contatos.items():\n",
        "  print(chave,valor)"
      ],
      "metadata": {
        "colab": {
          "base_uri": "https://localhost:8080/",
          "height": 106
        },
        "id": "CFAvQXu0neA_",
        "outputId": "39cc6dbc-1923-47d0-b2b9-3389295c8707"
      },
      "execution_count": null,
      "outputs": [
        {
          "output_type": "error",
          "ename": "SyntaxError",
          "evalue": "incomplete input (<ipython-input-13-bea28a257f79>, line 3)",
          "traceback": [
            "\u001b[0;36m  File \u001b[0;32m\"<ipython-input-13-bea28a257f79>\"\u001b[0;36m, line \u001b[0;32m3\u001b[0m\n\u001b[0;31m    '''pessoa = {\"nome\":\"Guilherme\",\"idade\":37,\"altura\":1.81}\u001b[0m\n\u001b[0m    ^\u001b[0m\n\u001b[0;31mSyntaxError\u001b[0m\u001b[0;31m:\u001b[0m incomplete input\n"
          ]
        }
      ]
    },
    {
      "cell_type": "code",
      "source": [
        "#@title Curso Python - Métodos da Classe Clear\n",
        "\n",
        "'''contatos = {\n",
        "    \"james.buchanan@examplepetstore.com\": {\"nome\": \"Guilherme\", \"telefone\": \"32165498\"},\n",
        "    \"james.buchanan@examplepetstore.com\": {\"nome\": \"Guilherme\", \"telefone\": \"32165498\"},\n",
        "    \"james.buchanan@examplepetstore.com\": {\"nome\": \"Guilherme\", \"telefone\": \"32165498\"},\n",
        "    \"james.buchanan@examplepetstore.com\": {\"nome\": \"Guilherme\", \"telefone\": \"32165498\"},\n",
        "    \"james.buchanan@examplepetstore.com\": {\"nome\": \"Guilherme\", \"telefone\": \"32165498\"},\n",
        "    \"john.c.calhoun@examplepetstore.com\": {\"nome\": \"Guilherme\", \"telefone\": \"32165498\"},\n",
        "    \"extra\":{\"\"}\n",
        "}\n",
        "\n",
        "#Clear\n",
        "contatos.clear()\n",
        "print(contatos)\n",
        "# {}\n",
        "\n",
        "#Copy\n",
        "\n",
        "copia = contatos.copy()\n",
        "print(copia)\n",
        "#\n",
        "\n",
        "contatos[\"james.buchanan@examplepetstore.com\"]\n",
        "copia[\"james.francis.byrnes@example-pet-store.com\"]\n",
        "\n",
        "dict.fromkeys([\"nome\",\"telefone\"])\n",
        "dict.fromkeys([\"nome\",\"telefone\"],\"vazio\")\n",
        "\n",
        "contatos.get(\"chave\")\n",
        "contatos.get(\"chave\",\"Não existe\")\n",
        "\n",
        "contatos.items()\n",
        "contatos.keys()\n",
        "contatos.values()\n",
        "\n",
        "contatos.get(\"chave\",{})\n",
        "contatos.get(\"james.buchanan@examplepetstore.com\",{})\n"
      ],
      "metadata": {
        "colab": {
          "base_uri": "https://localhost:8080/",
          "height": 106
        },
        "id": "8eby85DtyErx",
        "outputId": "2d53858c-4b2c-4665-e340-1fb0a3a143f7"
      },
      "execution_count": null,
      "outputs": [
        {
          "output_type": "error",
          "ename": "SyntaxError",
          "evalue": "incomplete input (<ipython-input-14-a3bd96830c01>, line 3)",
          "traceback": [
            "\u001b[0;36m  File \u001b[0;32m\"<ipython-input-14-a3bd96830c01>\"\u001b[0;36m, line \u001b[0;32m3\u001b[0m\n\u001b[0;31m    '''contatos = {\u001b[0m\n\u001b[0m    ^\u001b[0m\n\u001b[0;31mSyntaxError\u001b[0m\u001b[0;31m:\u001b[0m incomplete input\n"
          ]
        }
      ]
    },
    {
      "cell_type": "code",
      "source": [
        "#@title Curso Python - datetime, date, time e timezone\n",
        "\n",
        "from datetime import date, datetime, time, timedelta\n",
        "\n",
        "data = date(2024,10,25)\n",
        "print(data)\n",
        "print(date.today())\n",
        "\n",
        "data_hora = datetime(2024,10,25,10,30,0)\n",
        "print(data_hora)\n",
        "print(datetime.today())\n",
        "\n",
        "hora = time(10,30,0)\n",
        "print(hora)\n",
        "\n",
        "tipo_carro = input(\"P, M ou G: \\n\") #P, M ou G\n",
        "tempo_pequeno = 30\n",
        "tempo_medio = 45\n",
        "tempo_grande = 60\n",
        "data_atual = datetime.now()\n",
        "print(data_atual)\n",
        "\n",
        "if tipo_carro == \"P\":\n",
        "  data_estimada = data_atual + timedelta(minutes=tempo_pequeno)\n",
        "  print(f'O carro chegou: {data_atual} e ficará pronto às {data_estimada}')\n",
        "elif tipo_carro == \"M\":\n",
        "  data_estimada = data_atual + timedelta(minutes=tempo_medio)\n",
        "  print(f'O carro chegou: {data_atual} e ficará pronto às {data_estimada}')\n",
        "\n",
        "else:\n",
        "  data_estimada = data_atual + timedelta(minutes=tempo_grande)\n",
        "  print(f'O carro chegou: {data_atual} e ficará pronto às {data_estimada}')\n",
        "\n",
        "print(date.today() - timedelta(days=1))\n",
        "\n",
        "resultado = datetime(2024,10,26,6,10,30) - timedelta(hours=1)\n",
        "\n",
        "print(datetime.now().date())\n",
        "\n",
        "data_hora_atual = datetime.now()\n",
        "data_hora_str = \"2024-10-20 10:20\"\n",
        "mascara_ptbr = \"%d/%m/%Y\"\n",
        "mascara_en = \"%Y-%m-%d %H:%M\"\n",
        "print(data_hora_atual)\n",
        "print(data_hora_atual.strftime(mascara_ptbr))\n",
        "print(data_hora_atual.strftime(mascara_ptbr))\n",
        "data_hora_convertida = datetime.strptime(data_hora_str,mascara_en)\n",
        "print(data_hora_convertida)\n",
        "\n",
        "import pytz\n",
        "\n",
        "data = datetime.now(pytz.timezone(\"America/Sao_Paulo\"))\n",
        "print(data)\n",
        "\n",
        "\n",
        "data_matriz = datetime.now(pytz.timezone(\"Europe/Oslo\"))\n",
        "print(data_matriz)"
      ],
      "metadata": {
        "colab": {
          "base_uri": "https://localhost:8080/"
        },
        "id": "xjd6ZJyJ-Gbx",
        "outputId": "f4686d89-0a6c-429a-e1d2-c556409d165e"
      },
      "execution_count": 39,
      "outputs": [
        {
          "output_type": "stream",
          "name": "stdout",
          "text": [
            "2024-10-25\n",
            "2024-10-26\n",
            "2024-10-25 10:30:00\n",
            "2024-10-26 10:27:26.002916\n",
            "10:30:00\n",
            "P, M ou G: \n",
            "m\n",
            "2024-10-26 10:27:28.953092\n",
            "O carro chegou: 2024-10-26 10:27:28.953092 e ficará pronto às 2024-10-26 11:27:28.953092\n",
            "2024-10-25\n",
            "2024-10-26\n",
            "2024-10-26 10:27:28.955188\n",
            "26/10/2024\n",
            "26/10/2024\n",
            "2024-10-20 10:20:00\n",
            "2024-10-26 07:27:28.955922-03:00\n",
            "2024-10-26 12:27:28.960237+02:00\n"
          ]
        }
      ]
    }
  ],
  "metadata": {
    "colab": {
      "provenance": [],
      "authorship_tag": "ABX9TyMpDBtT6dqqdjetbyD5IqZN",
      "include_colab_link": true
    },
    "kernelspec": {
      "display_name": "Python 3",
      "name": "python3"
    },
    "language_info": {
      "name": "python"
    }
  },
  "nbformat": 4,
  "nbformat_minor": 0
}